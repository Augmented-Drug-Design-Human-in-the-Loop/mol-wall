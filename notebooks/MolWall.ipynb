{
 "cells": [
  {
   "cell_type": "code",
   "execution_count": 31,
   "id": "judicial-fight",
   "metadata": {
    "scrolled": true
   },
   "outputs": [],
   "source": [
    "import io\n",
    "import os\n",
    "import math\n",
    "import base64\n",
    "import datetime\n",
    "import rdkit\n",
    "import ipywidgets as widgets\n",
    "import numpy as np\n",
    "import pandas as pd\n",
    "import IPython"
   ]
  },
  {
   "cell_type": "code",
   "execution_count": 32,
   "id": "functioning-remedy",
   "metadata": {
    "scrolled": true
   },
   "outputs": [],
   "source": [
    "def rdimage(mol: rdkit.Chem.Mol) -> bytes:\n",
    "    \"\"\"Returns an image of a molecule as bytes.\"\"\"\n",
    "    pil_image = rdkit.Chem.Draw.MolToImage(mol)\n",
    "    buf = io.BytesIO()\n",
    "    pil_image.save(buf, format='png')\n",
    "    return buf.getvalue()"
   ]
  },
  {
   "cell_type": "code",
   "execution_count": 33,
   "id": "level-franchise",
   "metadata": {},
   "outputs": [],
   "source": [
    "def df_from_uploader(uploader: widgets.FileUpload):\n",
    "    uploaded_file = next(iter(uploader.value.values()))  # ipywidgets 7.6\n",
    "    # uploaded_file = uploader.value[0]  # ipywidgets 8.0\n",
    "\n",
    "    df = pd.read_csv(io.BytesIO(uploaded_file[\"content\"]))\n",
    "    filename = uploaded_file.get(\"metadata\", {}).get(\"name\", \"no_name\")\n",
    "    return df, filename"
   ]
  },
  {
   "cell_type": "code",
   "execution_count": 34,
   "id": "productive-operator",
   "metadata": {
    "scrolled": true
   },
   "outputs": [],
   "source": [
    "def add_rdmol(df):\n",
    "    df[\"mol\"] = df[\"SMILES\"].apply(rdkit.Chem.MolFromSmiles)\n",
    "    return df"
   ]
  },
  {
   "cell_type": "code",
   "execution_count": 35,
   "id": "satisfied-material",
   "metadata": {},
   "outputs": [],
   "source": [
    "def add_molwidget(df):\n",
    "    df[\"mol_widget\"] = df[\"mol\"].apply(\n",
    "        lambda mol: widgets.Image(\n",
    "            value=rdimage(mol),\n",
    "            format=\"PNG\",\n",
    "            width=150,\n",
    "            height=150,\n",
    "        )\n",
    "    )\n",
    "    return df"
   ]
  },
  {
   "cell_type": "code",
   "execution_count": 36,
   "id": "informal-monday",
   "metadata": {
    "scrolled": true
   },
   "outputs": [],
   "source": [
    "def add_buttonwidget(df):\n",
    "    df[\"button_widget\"] = df[\"SMILES\"].apply(\n",
    "        lambda smi: widgets.ToggleButton(\n",
    "            value=False, \n",
    "            description=smi,\n",
    "            layout=widgets.Layout(height=\"auto\", width=\"auto\")\n",
    "        )\n",
    "    )\n",
    "    return df"
   ]
  },
  {
   "cell_type": "code",
   "execution_count": 37,
   "id": "hawaiian-mortality",
   "metadata": {
    "scrolled": true
   },
   "outputs": [],
   "source": [
    "def add_duowidget(df):\n",
    "    df[\"duo_widget\"] = df.apply(\n",
    "        axis=1, \n",
    "        func=lambda row: widgets.VBox(\n",
    "            [row.mol_widget, row.button_widget],\n",
    "            layout=widgets.Layout(margin=\"5px 5px 40px 5px\")  # top, right, bottom, left\n",
    "        )\n",
    "    )\n",
    "    return df"
   ]
  },
  {
   "cell_type": "code",
   "execution_count": 38,
   "id": "hourly-minneapolis",
   "metadata": {},
   "outputs": [],
   "source": [
    "def add_gui_to_df(df):\n",
    "    \"\"\"Returns dataframe with all needed GUI widgets added in-place as columns.\"\"\"\n",
    "    return df.pipe(add_rdmol).pipe(add_molwidget).pipe(add_buttonwidget).pipe(add_duowidget)"
   ]
  },
  {
   "cell_type": "code",
   "execution_count": 39,
   "id": "quick-phone",
   "metadata": {},
   "outputs": [],
   "source": [
    "def remove_gui_from_df(df):\n",
    "    \"\"\"Returns copy of the dataframe without GUI columns removed.\"\"\"\n",
    "    df[\"is_selected\"] = df[\"button_widget\"].map(lambda row: row.value)\n",
    "\n",
    "    auxiliary_ui_columns = [\"mol\", \"mol_widget\", \"button_widget\", \"duo_widget\"]\n",
    "    good_columns = df.columns.difference(auxiliary_ui_columns)\n",
    "    return df[good_columns]"
   ]
  },
  {
   "cell_type": "code",
   "execution_count": 40,
   "id": "provincial-gilbert",
   "metadata": {
    "scrolled": false
   },
   "outputs": [],
   "source": [
    "def make_grid(df):\n",
    "    \"\"\"Returns Grid widget populated by molecules.\"\"\"\n",
    "    df = add_gui_to_df(df)\n",
    "    N_COLS = 4\n",
    "    N_ROWS = math.ceil(len(df) / N_COLS)\n",
    "    grid = widgets.GridspecLayout(N_ROWS, N_COLS)\n",
    "    for i in range(len(df)):\n",
    "        (row, col) = np.unravel_index(i, (N_ROWS, N_COLS))\n",
    "        grid[row, col] = df[\"duo_widget\"][i]\n",
    "    return grid"
   ]
  },
  {
   "cell_type": "code",
   "execution_count": 41,
   "id": "restricted-season",
   "metadata": {},
   "outputs": [],
   "source": [
    "# https://stackoverflow.com/a/42907645\n",
    "def create_download_link(df, filename = \"output.csv\"):\n",
    "    \"\"\"Returns HTML widget with a download link, with dataframe embedded in the link as a CSV file.\"\"\"\n",
    "    csv = remove_gui_from_df(df).to_csv(index=False)\n",
    "    payload = base64.b64encode(csv.encode()).decode()\n",
    "    now = datetime.datetime.now().ctime()\n",
    "    html = f'Output file: <a download=\"{filename}\" href=\"data:text/csv;base64,{payload}\" target=\"_blank\">{filename}</a>. Generated {now}.'\n",
    "    return widgets.HTML(html)"
   ]
  },
  {
   "cell_type": "code",
   "execution_count": 42,
   "id": "scientific-terrain",
   "metadata": {},
   "outputs": [],
   "source": [
    "def mkfname(ori_filename):\n",
    "    \"\"\"Makes a file name for the output from the original upload file name.\"\"\"\n",
    "    if ori_filename is None:\n",
    "        return \"output.csv\"\n",
    "    \n",
    "    name = os.path.splitext(ori_filename)[0]\n",
    "    return f\"{name}_with_selection.csv\"\n",
    "\n",
    "\n",
    "def make_download_button(df, ori_filename=None):\n",
    "    \"\"\"Returns download button.\n",
    "    \n",
    "    Download button is wrapped in a Box.\n",
    "    Initially, there is only one child in the box - the button.\n",
    "    On click, the children of the Box are replaced with two children:\n",
    "        - the original button,\n",
    "        - a link to download a file.\n",
    "    The link contains embedded a CSV file representation of the dataframe.\n",
    "    \"\"\"\n",
    "    \n",
    "    btn = widgets.Button(description = 'Generate output file') \n",
    "    vbox = widgets.VBox([btn])\n",
    "    def on_click(b):\n",
    "        vbox.children = tuple([btn, create_download_link(df, mkfname(ori_filename))])\n",
    "        \n",
    "    btn.on_click(on_click)\n",
    "    return vbox"
   ]
  },
  {
   "cell_type": "code",
   "execution_count": 43,
   "id": "objective-flood",
   "metadata": {},
   "outputs": [],
   "source": [
    "def make_app():\n",
    "    \"\"\"Returns App as a FileUploader widget.\n",
    "    \n",
    "    Initially, the widget contains only File Upload button.\n",
    "    On click, the button is replaced by the following:\n",
    "        - the upload button itself,\n",
    "        - a grid of molecules (\"the wall\"),\n",
    "        - a button to download CSV file with current selection.\n",
    "    \"\"\"\n",
    "    \n",
    "    description = widgets.HTML(\n",
    "        'Upload a CSV file with SMILES column '\n",
    "        '(see <a target=\"_blank\" href=\"https://github.com/'\n",
    "        'Augmented-Drug-Design-Human-in-the-Loop/'\n",
    "        'mol-wall/tree/main/tests/data\">example files</a>).'\n",
    "    )\n",
    "    uploader = widgets.FileUpload(\n",
    "        accept='.csv,csv.gz',  # Accepted file extension e.g. '.txt', '.pdf', 'image/*', 'image/*,.pdf'\n",
    "        multiple=False  # True to accept multiple files upload else False\n",
    "    )\n",
    "    app = widgets.VBox([description, uploader])\n",
    "    \n",
    "    def on_upload_change(change):\n",
    "        uploader = change[\"owner\"]\n",
    "        df, filename = df_from_uploader(uploader)\n",
    "        app.children = tuple([uploader, make_grid(df), make_download_button(df, filename)]) \n",
    "\n",
    "    uploader.observe(on_upload_change, names='_counter')  # https://stackoverflow.com/a/64357261\n",
    "    return app"
   ]
  },
  {
   "cell_type": "code",
   "execution_count": 44,
   "id": "widespread-watch",
   "metadata": {},
   "outputs": [],
   "source": [
    "app = make_app()"
   ]
  },
  {
   "cell_type": "code",
   "execution_count": 45,
   "id": "liquid-egypt",
   "metadata": {},
   "outputs": [
    {
     "data": {
      "application/vnd.jupyter.widget-view+json": {
       "model_id": "9df948b855394ad9a34e300043bd080e",
       "version_major": 2,
       "version_minor": 0
      },
      "text/plain": [
       "VBox(children=(HTML(value='Upload a CSV file with a SMILES column (see <a target=\"_blank\" href=\"https://github…"
      ]
     },
     "metadata": {},
     "output_type": "display_data"
    }
   ],
   "source": [
    "app"
   ]
  }
 ],
 "metadata": {
  "kernelspec": {
   "display_name": "Python 3",
   "language": "python",
   "name": "python3"
  },
  "language_info": {
   "codemirror_mode": {
    "name": "ipython",
    "version": 3
   },
   "file_extension": ".py",
   "mimetype": "text/x-python",
   "name": "python",
   "nbconvert_exporter": "python",
   "pygments_lexer": "ipython3",
   "version": "3.7.10"
  }
 },
 "nbformat": 4,
 "nbformat_minor": 5
}
