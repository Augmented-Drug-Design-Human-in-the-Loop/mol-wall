{
 "cells": [
  {
   "cell_type": "code",
   "execution_count": 1,
   "id": "judicial-fight",
   "metadata": {
    "scrolled": true
   },
   "outputs": [],
   "source": [
    "import io\n",
    "import os\n",
    "import rdkit\n",
    "import ipywidgets as widgets\n",
    "import numpy as np\n",
    "import pandas as pd"
   ]
  },
  {
   "cell_type": "code",
   "execution_count": 2,
   "id": "functioning-remedy",
   "metadata": {
    "scrolled": true
   },
   "outputs": [],
   "source": [
    "def rdimage(mol: rdkit.Chem.Mol) -> bytes:\n",
    "    \"\"\"Returns an image of a molecule as bytes.\"\"\"\n",
    "    pil_image = rdkit.Chem.Draw.MolToImage(mol)\n",
    "    buf = io.BytesIO()\n",
    "    pil_image.save(buf, format='png')\n",
    "    return buf.getvalue()"
   ]
  },
  {
   "cell_type": "code",
   "execution_count": 15,
   "id": "numeric-ethnic",
   "metadata": {
    "scrolled": true
   },
   "outputs": [],
   "source": [
    "filename = \"drd2-subset300mols.csv\"\n",
    "# Can also use FileUpload widget: \n",
    "# https://ipywidgets.readthedocs.io/en/latest/examples/Widget%20List.html#File-Upload\n",
    "df = pd.read_csv(filename)"
   ]
  },
  {
   "cell_type": "code",
   "execution_count": 16,
   "id": "productive-operator",
   "metadata": {
    "scrolled": true
   },
   "outputs": [],
   "source": [
    "df[\"mol\"] = df[\"canonical\"].apply(rdkit.Chem.MolFromSmiles)"
   ]
  },
  {
   "cell_type": "code",
   "execution_count": 17,
   "id": "satisfied-material",
   "metadata": {},
   "outputs": [],
   "source": [
    "df[\"mol_widget\"] = df[\"mol\"].apply(\n",
    "    lambda mol: widgets.Image(\n",
    "        value=rdimage(mol),\n",
    "        format=\"PNG\",\n",
    "        width=150,\n",
    "        height=150,\n",
    "    )\n",
    ")"
   ]
  },
  {
   "cell_type": "code",
   "execution_count": 18,
   "id": "informal-monday",
   "metadata": {
    "scrolled": true
   },
   "outputs": [],
   "source": [
    "df[\"button_widget\"] = df[\"canonical\"].apply(\n",
    "    lambda smi: widgets.ToggleButton(\n",
    "        value=False, \n",
    "        description=smi,\n",
    "        layout=widgets.Layout(height=\"auto\", width=\"auto\")\n",
    "    )\n",
    ")"
   ]
  },
  {
   "cell_type": "code",
   "execution_count": 19,
   "id": "hawaiian-mortality",
   "metadata": {
    "scrolled": true
   },
   "outputs": [],
   "source": [
    "df[\"duo_widget\"] = df.apply(\n",
    "    axis=1, \n",
    "    func=lambda row: widgets.VBox(\n",
    "        [row.mol_widget, row.button_widget],\n",
    "        layout=widgets.Layout(margin=\"5px 5px 40px 5px\")  # top, right, bottom, left\n",
    "    )\n",
    ")"
   ]
  },
  {
   "cell_type": "code",
   "execution_count": 20,
   "id": "provincial-gilbert",
   "metadata": {
    "scrolled": false
   },
   "outputs": [
    {
     "data": {
      "application/vnd.jupyter.widget-view+json": {
       "model_id": "81fb4a18b0ee44719e68bfcff9b7cbf9",
       "version_major": 2,
       "version_minor": 0
      },
      "text/plain": [
       "GridspecLayout(children=(VBox(children=(Image(value=b'\\x89PNG\\r\\n\\x1a\\n\\x00\\x00\\x00\\rIHDR\\x00\\x00\\x01,\\x00\\x00…"
      ]
     },
     "metadata": {},
     "output_type": "display_data"
    }
   ],
   "source": [
    "N_ROWS = 10\n",
    "N_COLS = 4\n",
    "grid = widgets.GridspecLayout(N_ROWS, N_COLS)\n",
    "df[\"is_visible\"] = False  # Anything beyond N_ROWS x N_COLS will not be visible.\n",
    "for row in range(N_ROWS):\n",
    "    for col in range(N_COLS):\n",
    "        i = np.ravel_multi_index([row, col], [N_ROWS, N_COLS])\n",
    "        if i < len(df):\n",
    "            grid[row, col] = df[\"duo_widget\"][i]\n",
    "            df.loc[i, \"is_visible\"] = True\n",
    "\n",
    "grid"
   ]
  },
  {
   "cell_type": "code",
   "execution_count": 21,
   "id": "special-diesel",
   "metadata": {
    "scrolled": true
   },
   "outputs": [
    {
     "data": {
      "text/html": [
       "<div>\n",
       "<style scoped>\n",
       "    .dataframe tbody tr th:only-of-type {\n",
       "        vertical-align: middle;\n",
       "    }\n",
       "\n",
       "    .dataframe tbody tr th {\n",
       "        vertical-align: top;\n",
       "    }\n",
       "\n",
       "    .dataframe thead th {\n",
       "        text-align: right;\n",
       "    }\n",
       "</style>\n",
       "<table border=\"1\" class=\"dataframe\">\n",
       "  <thead>\n",
       "    <tr style=\"text-align: right;\">\n",
       "      <th></th>\n",
       "      <th>activity</th>\n",
       "      <th>canonical</th>\n",
       "      <th>is_selected</th>\n",
       "      <th>is_visible</th>\n",
       "      <th>molwt</th>\n",
       "      <th>molwt_gt_330</th>\n",
       "    </tr>\n",
       "  </thead>\n",
       "  <tbody>\n",
       "    <tr>\n",
       "      <th>0</th>\n",
       "      <td>0</td>\n",
       "      <td>CCCC=N[SH](=O)(O)C=Cc1ccccc1</td>\n",
       "      <td>True</td>\n",
       "      <td>True</td>\n",
       "      <td>239.340</td>\n",
       "      <td>False</td>\n",
       "    </tr>\n",
       "    <tr>\n",
       "      <th>1</th>\n",
       "      <td>0</td>\n",
       "      <td>O=C(Nc1ccc2c(c1)OCO2)c1cnn2cccnc12</td>\n",
       "      <td>True</td>\n",
       "      <td>True</td>\n",
       "      <td>282.259</td>\n",
       "      <td>False</td>\n",
       "    </tr>\n",
       "    <tr>\n",
       "      <th>2</th>\n",
       "      <td>0</td>\n",
       "      <td>N#Cc1c(N)n(CCNC(=O)c2cccs2)c2nc3ccccc3nc12</td>\n",
       "      <td>True</td>\n",
       "      <td>True</td>\n",
       "      <td>362.418</td>\n",
       "      <td>True</td>\n",
       "    </tr>\n",
       "    <tr>\n",
       "      <th>3</th>\n",
       "      <td>0</td>\n",
       "      <td>CC(=O)c1cccc(NC(=O)Cn2cnc3c2c(=O)n(C)c(=O)n3C)c1</td>\n",
       "      <td>False</td>\n",
       "      <td>True</td>\n",
       "      <td>355.354</td>\n",
       "      <td>True</td>\n",
       "    </tr>\n",
       "    <tr>\n",
       "      <th>4</th>\n",
       "      <td>0</td>\n",
       "      <td>CCOC(=O)c1oc2ccccc2c1NC(=O)Cc1cccs1</td>\n",
       "      <td>False</td>\n",
       "      <td>True</td>\n",
       "      <td>329.377</td>\n",
       "      <td>False</td>\n",
       "    </tr>\n",
       "    <tr>\n",
       "      <th>...</th>\n",
       "      <td>...</td>\n",
       "      <td>...</td>\n",
       "      <td>...</td>\n",
       "      <td>...</td>\n",
       "      <td>...</td>\n",
       "      <td>...</td>\n",
       "    </tr>\n",
       "    <tr>\n",
       "      <th>295</th>\n",
       "      <td>0</td>\n",
       "      <td>O=C(O)c1cccc([N+](=O)[O-])c1C(=O)Nc1nc2ccccc2s1</td>\n",
       "      <td>False</td>\n",
       "      <td>False</td>\n",
       "      <td>343.320</td>\n",
       "      <td>True</td>\n",
       "    </tr>\n",
       "    <tr>\n",
       "      <th>296</th>\n",
       "      <td>0</td>\n",
       "      <td>CN(C)S(=O)(=O)c1cccc(NC(=O)COC(=O)COc2ccc(Br)c...</td>\n",
       "      <td>False</td>\n",
       "      <td>False</td>\n",
       "      <td>471.329</td>\n",
       "      <td>True</td>\n",
       "    </tr>\n",
       "    <tr>\n",
       "      <th>297</th>\n",
       "      <td>0</td>\n",
       "      <td>CCOc1ccc(NC(=O)CCC(=O)c2ccc(Br)cc2)cc1</td>\n",
       "      <td>False</td>\n",
       "      <td>False</td>\n",
       "      <td>376.250</td>\n",
       "      <td>True</td>\n",
       "    </tr>\n",
       "    <tr>\n",
       "      <th>298</th>\n",
       "      <td>0</td>\n",
       "      <td>CC1CCN(S(=O)(=O)c2ccc3c(c2)c(=O)c(C(=O)NCc2ccc...</td>\n",
       "      <td>False</td>\n",
       "      <td>False</td>\n",
       "      <td>459.593</td>\n",
       "      <td>True</td>\n",
       "    </tr>\n",
       "    <tr>\n",
       "      <th>299</th>\n",
       "      <td>0</td>\n",
       "      <td>CC(=O)c1cccc(NC(=O)Nc2nnc(N3CCCC3)s2)c1</td>\n",
       "      <td>False</td>\n",
       "      <td>False</td>\n",
       "      <td>331.401</td>\n",
       "      <td>True</td>\n",
       "    </tr>\n",
       "  </tbody>\n",
       "</table>\n",
       "<p>300 rows × 6 columns</p>\n",
       "</div>"
      ],
      "text/plain": [
       "     activity                                          canonical  is_selected  \\\n",
       "0           0                       CCCC=N[SH](=O)(O)C=Cc1ccccc1         True   \n",
       "1           0                 O=C(Nc1ccc2c(c1)OCO2)c1cnn2cccnc12         True   \n",
       "2           0         N#Cc1c(N)n(CCNC(=O)c2cccs2)c2nc3ccccc3nc12         True   \n",
       "3           0   CC(=O)c1cccc(NC(=O)Cn2cnc3c2c(=O)n(C)c(=O)n3C)c1        False   \n",
       "4           0                CCOC(=O)c1oc2ccccc2c1NC(=O)Cc1cccs1        False   \n",
       "..        ...                                                ...          ...   \n",
       "295         0    O=C(O)c1cccc([N+](=O)[O-])c1C(=O)Nc1nc2ccccc2s1        False   \n",
       "296         0  CN(C)S(=O)(=O)c1cccc(NC(=O)COC(=O)COc2ccc(Br)c...        False   \n",
       "297         0             CCOc1ccc(NC(=O)CCC(=O)c2ccc(Br)cc2)cc1        False   \n",
       "298         0  CC1CCN(S(=O)(=O)c2ccc3c(c2)c(=O)c(C(=O)NCc2ccc...        False   \n",
       "299         0            CC(=O)c1cccc(NC(=O)Nc2nnc(N3CCCC3)s2)c1        False   \n",
       "\n",
       "     is_visible    molwt  molwt_gt_330  \n",
       "0          True  239.340         False  \n",
       "1          True  282.259         False  \n",
       "2          True  362.418          True  \n",
       "3          True  355.354          True  \n",
       "4          True  329.377         False  \n",
       "..          ...      ...           ...  \n",
       "295       False  343.320          True  \n",
       "296       False  471.329          True  \n",
       "297       False  376.250          True  \n",
       "298       False  459.593          True  \n",
       "299       False  331.401          True  \n",
       "\n",
       "[300 rows x 6 columns]"
      ]
     },
     "execution_count": 21,
     "metadata": {},
     "output_type": "execute_result"
    }
   ],
   "source": [
    "df[\"is_selected\"] = df[\"button_widget\"].map(lambda row: row.value)\n",
    "\n",
    "auxiliary_ui_columns = [\"mol\", \"mol_widget\", \"button_widget\", \"duo_widget\"]\n",
    "good_columns = df.columns.difference(auxiliary_ui_columns)\n",
    "df2 = df[good_columns]\n",
    "\n",
    "df2"
   ]
  },
  {
   "cell_type": "code",
   "execution_count": 160,
   "id": "dutch-dakota",
   "metadata": {
    "scrolled": true
   },
   "outputs": [],
   "source": [
    "def out_filename(in_filename):\n",
    "    name, ext = os.path.splitext(in_filename)\n",
    "    return f\"{name}-with-user-selection{ext}\"\n",
    "\n",
    "df2.to_csv(out_filename(filename), index=False)"
   ]
  }
 ],
 "metadata": {
  "kernelspec": {
   "display_name": "Python 3",
   "language": "python",
   "name": "python3"
  },
  "language_info": {
   "codemirror_mode": {
    "name": "ipython",
    "version": 3
   },
   "file_extension": ".py",
   "mimetype": "text/x-python",
   "name": "python",
   "nbconvert_exporter": "python",
   "pygments_lexer": "ipython3",
   "version": "3.7.10"
  }
 },
 "nbformat": 4,
 "nbformat_minor": 5
}
